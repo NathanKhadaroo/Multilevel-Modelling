{
 "cells": [
  {
   "cell_type": "markdown",
   "metadata": {},
   "source": [
    "# Multi-level modelling assignment"
   ]
  },
  {
   "cell_type": "markdown",
   "metadata": {},
   "source": [
    "- The assignment\n",
    "- Loading packages and reading in data\n",
    "- Part A\n",
    "- Part B"
   ]
  },
  {
   "cell_type": "markdown",
   "metadata": {},
   "source": [
    "## The assignment"
   ]
  },
  {
   "cell_type": "markdown",
   "metadata": {},
   "source": [
    "#### Multilevel coursework assignment:\n",
    "\n",
    "Use the “coursework assignment data.ws” in Mlwin to answer the following questions. The data come from a random subsample of the Understanding Society wave 1 survey (for more details, see here: https://www.understandingsociety.ac.uk/documentation) . There are two parts to the assignment (part A and B).\n",
    "\n",
    "#### The variable names include:\n",
    "\n",
    "region: Government Office Region\n",
    "\n",
    "hid: household ID\n",
    "\n",
    "pid: person ID\n",
    "\n",
    "age: ranging from 16-96 years\n",
    "\n",
    "sclfsato: overall satisfaction with life ranging from 1 (completely dissatisfied) to 7 (completely satisfied\n",
    "\n",
    "nhood_mistrust: neighbourhood mistrust scale ranging from 1 (strongly trust in neighbourhood) to 5 (strongly mistrust \n",
    "in neighbourhood) \n",
    "\n",
    "urban: rural (0) vs urban (1) neighbourhood\n",
    "\n",
    "female: man (0) vs woman (1)\n",
    "\n",
    "hhtenure: housing tenure: owner/mortgaged (1); local authority/housing association rent (2); private rent (3)\n",
    "\n",
    "hiqual3: highest qualification: Degree or equivalent (1); school level qualification (2); No qualification (3)\n",
    "\n",
    "worry_crime: Worry about being affected by crime: No (0) vs Yes (1)\n",
    "\n",
    "Cons, denom: constant terms (1) \n",
    "\n",
    "#### Part A: Dependent variable: nhood_mistrust (60 marks)\n",
    "\n",
    "Fit a multilevel model with nhood_mistrust as the dependent variable. \n",
    "\n",
    "- Q1. Provide some summary statistics about the levels in the data. How many units are there at each level (overall N of each level), and how many units are there within levels (N within each level). - 3 marks\n",
    "\n",
    "- Q2. Specify the generalised equations of a three level multilevel model with random slopes at levels 2 and 3. State the assumptions of the model. - 2 marks\n",
    "\n",
    "- Q3. Start from the single level null model and add in the household and then region levels. \n",
    "\n",
    "A. Display the model coefficients in a table. - 3 marks\n",
    "\n",
    "B. Does the addition of the household level improve the fit of the model? -2 marks\n",
    "\n",
    "C. What evidence is there for an improvement in fit? - 5 marks\n",
    "\n",
    "- Q4: Calculate the VPC at the household and regional levels for the 3 level variance components model. - 3 marks\n",
    "\n",
    "- Q5. Add in the following explanatory variables in the model (random intercepts model only; no random slopes or coefficients)- age, sclfsato, urban, female, hhtenure, hiqual3. Take out any non-significant associations. \n",
    "\n",
    "A. Display the model coefficients in a table. - 2 marks\n",
    "\n",
    "B. Interpret the coefficients. - 5 marks\n",
    "\n",
    "- Q6. Add in random slopes for age, at the household and regional level\n",
    "\n",
    "A. Does this improve the fit of the model?  - 3 marks\n",
    "\n",
    "B. Take out from the model any non-significant random slope(s) for age\n",
    "\n",
    "C. Interpret the random slope(s) for age, with the help of graphs. - 10 marks\n",
    "\n",
    "- Q7. Examine potential interaction effects between age and the other explanatory variables- interpret the interactions using graphs. Is the random slope of age is explained by these interaction terms? - 10 marks\n",
    "\n",
    "- Q8. After fitting all the explanatory variables, is a three level model still appropriate? - 2 marks\n",
    "\n",
    "- Q9. Display and interpret the parameters in your final model in a table. - 5 marks\n",
    "\n",
    "- Q10. Examine residuals at all three levels- are the assumptions of the regression model met? - 5 marks\n",
    "\n",
    "\n",
    "\n",
    "#### Part B: Dependent variable: worry_crime (20 marks)\n",
    "\n",
    "Fit a multilevel logistic model with worry_crime as the dependent variable. \n",
    "\n",
    "- Q11. Start from the single level null model and add in the household and then GOR levels. Display the model coefficients for the 3 level variance components model  in a table. - 5 marks\n",
    "\n",
    "- Q12. Is a three level model appropriate? Is a 2 level model appropriate? Is a single level model appropriate? If a 2 level model is appropriate, which two level models (individuals within HH or individuals within GOR)? State your reasons for choosing between a 2 vs 3 level model. - 5 marks\n",
    "\n",
    "- Q13. Having decided whether a multilevel or single level model is appropriate, add in the explanatory variables from your final model in Part A. Compare the models using a Table. Are the associations with worry_crime similar to the associations with nhood_mistrust?  - 5 marks\n",
    "\n",
    "- Q14. Take out any non-significant explanatory variables from the model. Interpret the coefficients in your final model in a table.  5 marks\n",
    "\n",
    "#### NB: \n",
    "\n",
    "An additional 20 marks will be assigned for the presentation of tables (10) and figures (10).\n",
    "\n",
    "The results of this analysis should be presented in a written report of not more than 3000 words. There is no minimum number of words but each question should be answered comprehensively (Not just YES or NO answers, but giving the justification and evidence behind the answers). There is no limit on the number of tables and figures for the report.\n",
    "\n",
    "Submission deadline: 3pm 14 May 2020\n",
    "Please submit using Turnitin.\n",
    "Please enter your ID number on your essay. \n",
    "Save your submission file as Student ID number_submissiontitle.doc (eg 1234567_Essay.doc) Enter your Student ID number in the Turnitin title field at the time of submission."
   ]
  },
  {
   "cell_type": "markdown",
   "metadata": {},
   "source": [
    "#### Loading packages, reading in data, recoding categorical variables."
   ]
  },
  {
   "cell_type": "markdown",
   "metadata": {},
   "source": [
    "- Loading packages"
   ]
  },
  {
   "cell_type": "code",
   "execution_count": 1,
   "metadata": {},
   "outputs": [
    {
     "name": "stderr",
     "output_type": "stream",
     "text": [
      "Registered S3 methods overwritten by 'ggplot2':\n",
      "  method         from \n",
      "  [.quosures     rlang\n",
      "  c.quosures     rlang\n",
      "  print.quosures rlang\n",
      "Registered S3 method overwritten by 'rvest':\n",
      "  method            from\n",
      "  read_xml.response xml2\n",
      "── Attaching packages ─────────────────────────────────────── tidyverse 1.2.1 ──\n",
      "✔ ggplot2 3.1.1       ✔ purrr   0.3.2  \n",
      "✔ tibble  2.1.1       ✔ dplyr   0.8.0.1\n",
      "✔ tidyr   0.8.3       ✔ stringr 1.4.0  \n",
      "✔ readr   1.3.1       ✔ forcats 0.4.0  \n",
      "── Conflicts ────────────────────────────────────────── tidyverse_conflicts() ──\n",
      "✖ dplyr::filter() masks stats::filter()\n",
      "✖ dplyr::lag()    masks stats::lag()\n",
      "Loading required package: Matrix\n",
      "\n",
      "Attaching package: ‘Matrix’\n",
      "\n",
      "The following object is masked from ‘package:tidyr’:\n",
      "\n",
      "    expand\n",
      "\n",
      "\n",
      "Attaching package: ‘lmerTest’\n",
      "\n",
      "The following object is masked from ‘package:lme4’:\n",
      "\n",
      "    lmer\n",
      "\n",
      "The following object is masked from ‘package:stats’:\n",
      "\n",
      "    step\n",
      "\n"
     ]
    }
   ],
   "source": [
    "library(tidyverse)\n",
    "library(fastDummies)\n",
    "library(broom)\n",
    "library(lme4)\n",
    "library(lmerTest)"
   ]
  },
  {
   "cell_type": "code",
   "execution_count": 2,
   "metadata": {},
   "outputs": [],
   "source": [
    "mydataNAs <- read.table(file = \"coursework.txt\", sep = \",\" , header = TRUE)\n",
    "mydata <- drop_na(mydataNAs)"
   ]
  },
  {
   "cell_type": "code",
   "execution_count": 4,
   "metadata": {},
   "outputs": [],
   "source": [
    "mydata <- dummy_cols(mydata, select_columns = c('hhtenure', 'hiqual3'), remove_first_dummy = TRUE)"
   ]
  },
  {
   "cell_type": "code",
   "execution_count": 5,
   "metadata": {},
   "outputs": [
    {
     "data": {
      "text/html": [
       "<ol class=list-inline>\n",
       "\t<li>'region'</li>\n",
       "\t<li>'hid'</li>\n",
       "\t<li>'pid'</li>\n",
       "\t<li>'age'</li>\n",
       "\t<li>'sclfsato'</li>\n",
       "\t<li>'nhood_mistrust'</li>\n",
       "\t<li>'urban'</li>\n",
       "\t<li>'female'</li>\n",
       "\t<li>'hhtenure'</li>\n",
       "\t<li>'hiqual3'</li>\n",
       "\t<li>'worry_crime'</li>\n",
       "\t<li>'cons'</li>\n",
       "\t<li>'denom'</li>\n",
       "\t<li>'rent_local_auth'</li>\n",
       "\t<li>'rent_private'</li>\n",
       "\t<li>'school_qual'</li>\n",
       "\t<li>'no_qual'</li>\n",
       "</ol>\n"
      ],
      "text/latex": [
       "\\begin{enumerate*}\n",
       "\\item 'region'\n",
       "\\item 'hid'\n",
       "\\item 'pid'\n",
       "\\item 'age'\n",
       "\\item 'sclfsato'\n",
       "\\item 'nhood\\_mistrust'\n",
       "\\item 'urban'\n",
       "\\item 'female'\n",
       "\\item 'hhtenure'\n",
       "\\item 'hiqual3'\n",
       "\\item 'worry\\_crime'\n",
       "\\item 'cons'\n",
       "\\item 'denom'\n",
       "\\item 'rent\\_local\\_auth'\n",
       "\\item 'rent\\_private'\n",
       "\\item 'school\\_qual'\n",
       "\\item 'no\\_qual'\n",
       "\\end{enumerate*}\n"
      ],
      "text/markdown": [
       "1. 'region'\n",
       "2. 'hid'\n",
       "3. 'pid'\n",
       "4. 'age'\n",
       "5. 'sclfsato'\n",
       "6. 'nhood_mistrust'\n",
       "7. 'urban'\n",
       "8. 'female'\n",
       "9. 'hhtenure'\n",
       "10. 'hiqual3'\n",
       "11. 'worry_crime'\n",
       "12. 'cons'\n",
       "13. 'denom'\n",
       "14. 'rent_local_auth'\n",
       "15. 'rent_private'\n",
       "16. 'school_qual'\n",
       "17. 'no_qual'\n",
       "\n",
       "\n"
      ],
      "text/plain": [
       " [1] \"region\"          \"hid\"             \"pid\"             \"age\"            \n",
       " [5] \"sclfsato\"        \"nhood_mistrust\"  \"urban\"           \"female\"         \n",
       " [9] \"hhtenure\"        \"hiqual3\"         \"worry_crime\"     \"cons\"           \n",
       "[13] \"denom\"           \"rent_local_auth\" \"rent_private\"    \"school_qual\"    \n",
       "[17] \"no_qual\"        "
      ]
     },
     "metadata": {},
     "output_type": "display_data"
    }
   ],
   "source": [
    "mydata <- mydata %>% rename(rent_local_auth = hhtenure_2, rent_private = hhtenure_3,\n",
    "                            school_qual = hiqual3_2, no_qual = hiqual3_3)\n",
    "colnames(mydata)"
   ]
  },
  {
   "cell_type": "markdown",
   "metadata": {},
   "source": [
    "#### Part A"
   ]
  },
  {
   "cell_type": "markdown",
   "metadata": {},
   "source": [
    "- Q1. Provide some summary statistics about the levels in the data. How many units are there at each level (overall N of each level), and how many units are there within levels (N within each level)."
   ]
  },
  {
   "cell_type": "code",
   "execution_count": 6,
   "metadata": {},
   "outputs": [
    {
     "data": {
      "text/html": [
       "<dl class=dl-horizontal>\n",
       "\t<dt>region</dt>\n",
       "\t\t<dd>12</dd>\n",
       "\t<dt>hid</dt>\n",
       "\t\t<dd>4429</dd>\n",
       "\t<dt>pid</dt>\n",
       "\t\t<dd>4655</dd>\n",
       "\t<dt>age</dt>\n",
       "\t\t<dd>80</dd>\n",
       "\t<dt>sclfsato</dt>\n",
       "\t\t<dd>8</dd>\n",
       "\t<dt>nhood_mistrust</dt>\n",
       "\t\t<dd>25</dd>\n",
       "\t<dt>urban</dt>\n",
       "\t\t<dd>2</dd>\n",
       "\t<dt>female</dt>\n",
       "\t\t<dd>2</dd>\n",
       "\t<dt>hhtenure</dt>\n",
       "\t\t<dd>4</dd>\n",
       "\t<dt>hiqual3</dt>\n",
       "\t\t<dd>4</dd>\n",
       "\t<dt>worry_crime</dt>\n",
       "\t\t<dd>3</dd>\n",
       "\t<dt>cons</dt>\n",
       "\t\t<dd>1</dd>\n",
       "\t<dt>denom</dt>\n",
       "\t\t<dd>1</dd>\n",
       "</dl>\n"
      ],
      "text/latex": [
       "\\begin{description*}\n",
       "\\item[region] 12\n",
       "\\item[hid] 4429\n",
       "\\item[pid] 4655\n",
       "\\item[age] 80\n",
       "\\item[sclfsato] 8\n",
       "\\item[nhood\\textbackslash{}\\_mistrust] 25\n",
       "\\item[urban] 2\n",
       "\\item[female] 2\n",
       "\\item[hhtenure] 4\n",
       "\\item[hiqual3] 4\n",
       "\\item[worry\\textbackslash{}\\_crime] 3\n",
       "\\item[cons] 1\n",
       "\\item[denom] 1\n",
       "\\end{description*}\n"
      ],
      "text/markdown": [
       "region\n",
       ":   12hid\n",
       ":   4429pid\n",
       ":   4655age\n",
       ":   80sclfsato\n",
       ":   8nhood_mistrust\n",
       ":   25urban\n",
       ":   2female\n",
       ":   2hhtenure\n",
       ":   4hiqual3\n",
       ":   4worry_crime\n",
       ":   3cons\n",
       ":   1denom\n",
       ":   1\n",
       "\n"
      ],
      "text/plain": [
       "        region            hid            pid            age       sclfsato \n",
       "            12           4429           4655             80              8 \n",
       "nhood_mistrust          urban         female       hhtenure        hiqual3 \n",
       "            25              2              2              4              4 \n",
       "   worry_crime           cons          denom \n",
       "             3              1              1 "
      ]
     },
     "metadata": {},
     "output_type": "display_data"
    }
   ],
   "source": [
    "sapply(mydataNAs, function(x) length(unique(x)))"
   ]
  },
  {
   "cell_type": "code",
   "execution_count": 7,
   "metadata": {},
   "outputs": [
    {
     "data": {
      "text/html": [
       "<dl class=dl-horizontal>\n",
       "\t<dt>region</dt>\n",
       "\t\t<dd>12</dd>\n",
       "\t<dt>hid</dt>\n",
       "\t\t<dd>3883</dd>\n",
       "\t<dt>pid</dt>\n",
       "\t\t<dd>4064</dd>\n",
       "\t<dt>age</dt>\n",
       "\t\t<dd>79</dd>\n",
       "\t<dt>sclfsato</dt>\n",
       "\t\t<dd>7</dd>\n",
       "\t<dt>nhood_mistrust</dt>\n",
       "\t\t<dd>22</dd>\n",
       "\t<dt>urban</dt>\n",
       "\t\t<dd>2</dd>\n",
       "\t<dt>female</dt>\n",
       "\t\t<dd>2</dd>\n",
       "\t<dt>hhtenure</dt>\n",
       "\t\t<dd>3</dd>\n",
       "\t<dt>hiqual3</dt>\n",
       "\t\t<dd>3</dd>\n",
       "\t<dt>worry_crime</dt>\n",
       "\t\t<dd>2</dd>\n",
       "\t<dt>cons</dt>\n",
       "\t\t<dd>1</dd>\n",
       "\t<dt>denom</dt>\n",
       "\t\t<dd>1</dd>\n",
       "\t<dt>rent_local_auth</dt>\n",
       "\t\t<dd>2</dd>\n",
       "\t<dt>rent_private</dt>\n",
       "\t\t<dd>2</dd>\n",
       "\t<dt>school_qual</dt>\n",
       "\t\t<dd>2</dd>\n",
       "\t<dt>no_qual</dt>\n",
       "\t\t<dd>2</dd>\n",
       "</dl>\n"
      ],
      "text/latex": [
       "\\begin{description*}\n",
       "\\item[region] 12\n",
       "\\item[hid] 3883\n",
       "\\item[pid] 4064\n",
       "\\item[age] 79\n",
       "\\item[sclfsato] 7\n",
       "\\item[nhood\\textbackslash{}\\_mistrust] 22\n",
       "\\item[urban] 2\n",
       "\\item[female] 2\n",
       "\\item[hhtenure] 3\n",
       "\\item[hiqual3] 3\n",
       "\\item[worry\\textbackslash{}\\_crime] 2\n",
       "\\item[cons] 1\n",
       "\\item[denom] 1\n",
       "\\item[rent\\textbackslash{}\\_local\\textbackslash{}\\_auth] 2\n",
       "\\item[rent\\textbackslash{}\\_private] 2\n",
       "\\item[school\\textbackslash{}\\_qual] 2\n",
       "\\item[no\\textbackslash{}\\_qual] 2\n",
       "\\end{description*}\n"
      ],
      "text/markdown": [
       "region\n",
       ":   12hid\n",
       ":   3883pid\n",
       ":   4064age\n",
       ":   79sclfsato\n",
       ":   7nhood_mistrust\n",
       ":   22urban\n",
       ":   2female\n",
       ":   2hhtenure\n",
       ":   3hiqual3\n",
       ":   3worry_crime\n",
       ":   2cons\n",
       ":   1denom\n",
       ":   1rent_local_auth\n",
       ":   2rent_private\n",
       ":   2school_qual\n",
       ":   2no_qual\n",
       ":   2\n",
       "\n"
      ],
      "text/plain": [
       "         region             hid             pid             age        sclfsato \n",
       "             12            3883            4064              79               7 \n",
       " nhood_mistrust           urban          female        hhtenure         hiqual3 \n",
       "             22               2               2               3               3 \n",
       "    worry_crime            cons           denom rent_local_auth    rent_private \n",
       "              2               1               1               2               2 \n",
       "    school_qual         no_qual \n",
       "              2               2 "
      ]
     },
     "metadata": {},
     "output_type": "display_data"
    }
   ],
   "source": [
    "sapply(mydata, function(x) length(unique(x)))"
   ]
  },
  {
   "cell_type": "markdown",
   "metadata": {},
   "source": [
    "There are 12 different Government office regions (level 3), 4429 different households (level 2), and 4655 individuals (level 1). The table below provides information for every region on the number of households, individuals, and the mean number of individuals per household."
   ]
  },
  {
   "cell_type": "code",
   "execution_count": 8,
   "metadata": {
    "scrolled": false
   },
   "outputs": [
    {
     "data": {
      "text/html": [
       "<table>\n",
       "<thead><tr><th scope=col>region</th><th scope=col>Number_of_households</th><th scope=col>Number_of_individuals</th><th scope=col>Mean_number_of_individuals_per_household</th></tr></thead>\n",
       "<tbody>\n",
       "\t<tr><td> 1      </td><td>142     </td><td>148     </td><td>1.042254</td></tr>\n",
       "\t<tr><td> 2      </td><td>483     </td><td>506     </td><td>1.047619</td></tr>\n",
       "\t<tr><td> 3      </td><td>333     </td><td>353     </td><td>1.060060</td></tr>\n",
       "\t<tr><td> 4      </td><td>333     </td><td>356     </td><td>1.069069</td></tr>\n",
       "\t<tr><td> 5      </td><td>309     </td><td>330     </td><td>1.067961</td></tr>\n",
       "\t<tr><td> 6      </td><td>350     </td><td>364     </td><td>1.040000</td></tr>\n",
       "\t<tr><td> 7      </td><td>531     </td><td>554     </td><td>1.043315</td></tr>\n",
       "\t<tr><td> 8      </td><td>512     </td><td>542     </td><td>1.058594</td></tr>\n",
       "\t<tr><td> 9      </td><td>360     </td><td>374     </td><td>1.038889</td></tr>\n",
       "\t<tr><td>10      </td><td>333     </td><td>353     </td><td>1.060060</td></tr>\n",
       "\t<tr><td>11      </td><td>408     </td><td>425     </td><td>1.041667</td></tr>\n",
       "\t<tr><td>12      </td><td>335     </td><td>350     </td><td>1.044776</td></tr>\n",
       "</tbody>\n",
       "</table>\n"
      ],
      "text/latex": [
       "\\begin{tabular}{r|llll}\n",
       " region & Number\\_of\\_households & Number\\_of\\_individuals & Mean\\_number\\_of\\_individuals\\_per\\_household\\\\\n",
       "\\hline\n",
       "\t  1       & 142      & 148      & 1.042254\\\\\n",
       "\t  2       & 483      & 506      & 1.047619\\\\\n",
       "\t  3       & 333      & 353      & 1.060060\\\\\n",
       "\t  4       & 333      & 356      & 1.069069\\\\\n",
       "\t  5       & 309      & 330      & 1.067961\\\\\n",
       "\t  6       & 350      & 364      & 1.040000\\\\\n",
       "\t  7       & 531      & 554      & 1.043315\\\\\n",
       "\t  8       & 512      & 542      & 1.058594\\\\\n",
       "\t  9       & 360      & 374      & 1.038889\\\\\n",
       "\t 10       & 333      & 353      & 1.060060\\\\\n",
       "\t 11       & 408      & 425      & 1.041667\\\\\n",
       "\t 12       & 335      & 350      & 1.044776\\\\\n",
       "\\end{tabular}\n"
      ],
      "text/markdown": [
       "\n",
       "| region | Number_of_households | Number_of_individuals | Mean_number_of_individuals_per_household |\n",
       "|---|---|---|---|\n",
       "|  1       | 142      | 148      | 1.042254 |\n",
       "|  2       | 483      | 506      | 1.047619 |\n",
       "|  3       | 333      | 353      | 1.060060 |\n",
       "|  4       | 333      | 356      | 1.069069 |\n",
       "|  5       | 309      | 330      | 1.067961 |\n",
       "|  6       | 350      | 364      | 1.040000 |\n",
       "|  7       | 531      | 554      | 1.043315 |\n",
       "|  8       | 512      | 542      | 1.058594 |\n",
       "|  9       | 360      | 374      | 1.038889 |\n",
       "| 10       | 333      | 353      | 1.060060 |\n",
       "| 11       | 408      | 425      | 1.041667 |\n",
       "| 12       | 335      | 350      | 1.044776 |\n",
       "\n"
      ],
      "text/plain": [
       "   region Number_of_households Number_of_individuals\n",
       "1   1     142                  148                  \n",
       "2   2     483                  506                  \n",
       "3   3     333                  353                  \n",
       "4   4     333                  356                  \n",
       "5   5     309                  330                  \n",
       "6   6     350                  364                  \n",
       "7   7     531                  554                  \n",
       "8   8     512                  542                  \n",
       "9   9     360                  374                  \n",
       "10 10     333                  353                  \n",
       "11 11     408                  425                  \n",
       "12 12     335                  350                  \n",
       "   Mean_number_of_individuals_per_household\n",
       "1  1.042254                                \n",
       "2  1.047619                                \n",
       "3  1.060060                                \n",
       "4  1.069069                                \n",
       "5  1.067961                                \n",
       "6  1.040000                                \n",
       "7  1.043315                                \n",
       "8  1.058594                                \n",
       "9  1.038889                                \n",
       "10 1.060060                                \n",
       "11 1.041667                                \n",
       "12 1.044776                                "
      ]
     },
     "metadata": {},
     "output_type": "display_data"
    }
   ],
   "source": [
    "mydataNAs %>%\n",
    "    group_by(region) %>% \n",
    "    summarise(Number_of_households = n_distinct(hid),\n",
    "             Number_of_individuals = n(),\n",
    "             Mean_number_of_individuals_per_household = n()/n_distinct(hid))"
   ]
  },
  {
   "cell_type": "markdown",
   "metadata": {},
   "source": [
    "After droping rows with incomplete values there are 12 different Government office regions (level 3), 3883 different households (level 2), and 4064 individuals (level 1).\n",
    "The table below provides information for every region on the number of households and individuals, and the mean number of individuals per household."
   ]
  },
  {
   "cell_type": "code",
   "execution_count": 9,
   "metadata": {},
   "outputs": [
    {
     "data": {
      "text/html": [
       "<table>\n",
       "<thead><tr><th scope=col>region</th><th scope=col>Number_of_households</th><th scope=col>Number_of_individuals</th><th scope=col>Mean_number_of_individuals_per_household</th></tr></thead>\n",
       "<tbody>\n",
       "\t<tr><td> 1      </td><td>123     </td><td>128     </td><td>1.040650</td></tr>\n",
       "\t<tr><td> 2      </td><td>435     </td><td>454     </td><td>1.043678</td></tr>\n",
       "\t<tr><td> 3      </td><td>291     </td><td>304     </td><td>1.044674</td></tr>\n",
       "\t<tr><td> 4      </td><td>278     </td><td>297     </td><td>1.068345</td></tr>\n",
       "\t<tr><td> 5      </td><td>262     </td><td>279     </td><td>1.064885</td></tr>\n",
       "\t<tr><td> 6      </td><td>321     </td><td>333     </td><td>1.037383</td></tr>\n",
       "\t<tr><td> 7      </td><td>461     </td><td>478     </td><td>1.036876</td></tr>\n",
       "\t<tr><td> 8      </td><td>458     </td><td>483     </td><td>1.054585</td></tr>\n",
       "\t<tr><td> 9      </td><td>329     </td><td>342     </td><td>1.039514</td></tr>\n",
       "\t<tr><td>10      </td><td>279     </td><td>295     </td><td>1.057348</td></tr>\n",
       "\t<tr><td>11      </td><td>369     </td><td>384     </td><td>1.040650</td></tr>\n",
       "\t<tr><td>12      </td><td>277     </td><td>287     </td><td>1.036101</td></tr>\n",
       "</tbody>\n",
       "</table>\n"
      ],
      "text/latex": [
       "\\begin{tabular}{r|llll}\n",
       " region & Number\\_of\\_households & Number\\_of\\_individuals & Mean\\_number\\_of\\_individuals\\_per\\_household\\\\\n",
       "\\hline\n",
       "\t  1       & 123      & 128      & 1.040650\\\\\n",
       "\t  2       & 435      & 454      & 1.043678\\\\\n",
       "\t  3       & 291      & 304      & 1.044674\\\\\n",
       "\t  4       & 278      & 297      & 1.068345\\\\\n",
       "\t  5       & 262      & 279      & 1.064885\\\\\n",
       "\t  6       & 321      & 333      & 1.037383\\\\\n",
       "\t  7       & 461      & 478      & 1.036876\\\\\n",
       "\t  8       & 458      & 483      & 1.054585\\\\\n",
       "\t  9       & 329      & 342      & 1.039514\\\\\n",
       "\t 10       & 279      & 295      & 1.057348\\\\\n",
       "\t 11       & 369      & 384      & 1.040650\\\\\n",
       "\t 12       & 277      & 287      & 1.036101\\\\\n",
       "\\end{tabular}\n"
      ],
      "text/markdown": [
       "\n",
       "| region | Number_of_households | Number_of_individuals | Mean_number_of_individuals_per_household |\n",
       "|---|---|---|---|\n",
       "|  1       | 123      | 128      | 1.040650 |\n",
       "|  2       | 435      | 454      | 1.043678 |\n",
       "|  3       | 291      | 304      | 1.044674 |\n",
       "|  4       | 278      | 297      | 1.068345 |\n",
       "|  5       | 262      | 279      | 1.064885 |\n",
       "|  6       | 321      | 333      | 1.037383 |\n",
       "|  7       | 461      | 478      | 1.036876 |\n",
       "|  8       | 458      | 483      | 1.054585 |\n",
       "|  9       | 329      | 342      | 1.039514 |\n",
       "| 10       | 279      | 295      | 1.057348 |\n",
       "| 11       | 369      | 384      | 1.040650 |\n",
       "| 12       | 277      | 287      | 1.036101 |\n",
       "\n"
      ],
      "text/plain": [
       "   region Number_of_households Number_of_individuals\n",
       "1   1     123                  128                  \n",
       "2   2     435                  454                  \n",
       "3   3     291                  304                  \n",
       "4   4     278                  297                  \n",
       "5   5     262                  279                  \n",
       "6   6     321                  333                  \n",
       "7   7     461                  478                  \n",
       "8   8     458                  483                  \n",
       "9   9     329                  342                  \n",
       "10 10     279                  295                  \n",
       "11 11     369                  384                  \n",
       "12 12     277                  287                  \n",
       "   Mean_number_of_individuals_per_household\n",
       "1  1.040650                                \n",
       "2  1.043678                                \n",
       "3  1.044674                                \n",
       "4  1.068345                                \n",
       "5  1.064885                                \n",
       "6  1.037383                                \n",
       "7  1.036876                                \n",
       "8  1.054585                                \n",
       "9  1.039514                                \n",
       "10 1.057348                                \n",
       "11 1.040650                                \n",
       "12 1.036101                                "
      ]
     },
     "metadata": {},
     "output_type": "display_data"
    }
   ],
   "source": [
    "mydata %>%\n",
    "    group_by(region) %>% \n",
    "    summarise(Number_of_households = n_distinct(hid),\n",
    "             Number_of_individuals = n(),\n",
    "             Mean_number_of_individuals_per_household = n()/n_distinct(hid))"
   ]
  },
  {
   "cell_type": "markdown",
   "metadata": {},
   "source": [
    "- Q2. Specify the generalised equations of a three level multilevel model with random slopes at levels 2 and 3. State the assumptions of the model."
   ]
  },
  {
   "cell_type": "markdown",
   "metadata": {},
   "source": [
    "$Y_{ijk} = \\beta_0 + \\beta_1 x_{1ijk} + v_{0k} + v_{1k}x_{1ijk}   + u_{0jk} + u_{1ijk}x_{1ijk} + e_{ijk}$\n",
    "\n",
    "Where $Y_{ijk}$ is the expected value of our dependant variable for individual *i* in household *j* in region *k*, $x_{1ijk}$ is a independant variable with random coeffecients at levels two and three, $\\beta_0$ is the mean intercept over all slopes, $\\beta_1$ is the average slope across all groups (the average in y change across all groups for a 1 unit change in $x_{1ijk}$), and $v_{0k}$,    $v_{1k}x_{1ijk}$,    $u_{0jk}$,    $u_{1ijk}x_{1ijk}$,    $e_{ijk}$ are the random effects associated with level two, level three, and the individual level respectively.\n",
    "\n",
    "$v_k$ is the effect associated with region *k*, $u_{jk}$ is the effect associated with household *j* within region *k*, and $e_{ijk}$ is the residual error term (the difference between the mean value in household *j*, and the value for individual *i*).\n",
    "\n",
    "\n",
    "It is assumed that there are cluster effects and supercluster effects"
   ]
  },
  {
   "cell_type": "markdown",
   "metadata": {},
   "source": [
    "- Q3. Start from the single level null model and add in the household and then region levels. \n",
    "\n",
    "A. Display the model coefficients in a table.\n",
    "\n",
    "B. Does the addition of the household level improve the fit of the model?\n",
    "\n",
    "C. What evidence is there for an improvement in fit?"
   ]
  },
  {
   "cell_type": "markdown",
   "metadata": {},
   "source": [
    "#### We start by fitting our null models\n",
    "\n",
    "First the single level null model."
   ]
  },
  {
   "cell_type": "code",
   "execution_count": 11,
   "metadata": {},
   "outputs": [
    {
     "data": {
      "text/html": [
       "<table>\n",
       "<thead><tr><th scope=col>term</th><th scope=col>estimate</th><th scope=col>std.error</th><th scope=col>statistic</th><th scope=col>p.value</th></tr></thead>\n",
       "<tbody>\n",
       "\t<tr><td>(Intercept)</td><td>2.385499   </td><td>0.01029853 </td><td>231.6349   </td><td>0          </td></tr>\n",
       "</tbody>\n",
       "</table>\n"
      ],
      "text/latex": [
       "\\begin{tabular}{r|lllll}\n",
       " term & estimate & std.error & statistic & p.value\\\\\n",
       "\\hline\n",
       "\t (Intercept) & 2.385499    & 0.01029853  & 231.6349    & 0          \\\\\n",
       "\\end{tabular}\n"
      ],
      "text/markdown": [
       "\n",
       "| term | estimate | std.error | statistic | p.value |\n",
       "|---|---|---|---|---|\n",
       "| (Intercept) | 2.385499    | 0.01029853  | 231.6349    | 0           |\n",
       "\n"
      ],
      "text/plain": [
       "  term        estimate std.error  statistic p.value\n",
       "1 (Intercept) 2.385499 0.01029853 231.6349  0      "
      ]
     },
     "metadata": {},
     "output_type": "display_data"
    }
   ],
   "source": [
    "single_null <- lm(nhood_mistrust ~ 1, data = mydata)\n",
    "tidy(single_null)"
   ]
  },
  {
   "cell_type": "markdown",
   "metadata": {},
   "source": [
    "Then a two level model with household at level 2."
   ]
  },
  {
   "cell_type": "code",
   "execution_count": 12,
   "metadata": {},
   "outputs": [
    {
     "data": {
      "text/plain": [
       "Linear mixed model fit by maximum likelihood . t-tests use Satterthwaite's\n",
       "  method [lmerModLmerTest]\n",
       "Formula: nhood_mistrust ~ (1 | hid)\n",
       "   Data: mydata\n",
       "\n",
       "     AIC      BIC   logLik deviance df.resid \n",
       "  8023.5   8042.4  -4008.7   8017.5     4061 \n",
       "\n",
       "Scaled residuals: \n",
       "    Min      1Q  Median      3Q     Max \n",
       "-1.8452 -0.3641 -0.1260  0.3503  2.4936 \n",
       "\n",
       "Random effects:\n",
       " Groups   Name        Variance Std.Dev.\n",
       " hid      (Intercept) 0.2622   0.5121  \n",
       " Residual             0.1677   0.4095  \n",
       "Number of obs: 4064, groups:  hid, 3883\n",
       "\n",
       "Fixed effects:\n",
       "             Estimate Std. Error        df t value Pr(>|t|)    \n",
       "(Intercept) 2.382e+00  1.046e-02 3.885e+03   227.7   <2e-16 ***\n",
       "---\n",
       "Signif. codes:  0 ‘***’ 0.001 ‘**’ 0.01 ‘*’ 0.05 ‘.’ 0.1 ‘ ’ 1"
      ]
     },
     "metadata": {},
     "output_type": "display_data"
    }
   ],
   "source": [
    "twolevel_null_hid <- lmer(nhood_mistrust ~ (1|hid), data = mydata, REML = FALSE)\n",
    "summary(twolevel_null_hid)"
   ]
  },
  {
   "cell_type": "markdown",
   "metadata": {},
   "source": [
    "Then a two level model with region at level 2."
   ]
  },
  {
   "cell_type": "code",
   "execution_count": 13,
   "metadata": {},
   "outputs": [
    {
     "data": {
      "text/plain": [
       "Linear mixed model fit by maximum likelihood . t-tests use Satterthwaite's\n",
       "  method [lmerModLmerTest]\n",
       "Formula: nhood_mistrust ~ (1 | region)\n",
       "   Data: mydata\n",
       "\n",
       "     AIC      BIC   logLik deviance df.resid \n",
       "  8097.7   8116.7  -4045.9   8091.7     4061 \n",
       "\n",
       "Scaled residuals: \n",
       "    Min      1Q  Median      3Q     Max \n",
       "-2.2867 -0.5934 -0.1977  0.5542  4.1784 \n",
       "\n",
       "Random effects:\n",
       " Groups   Name        Variance Std.Dev.\n",
       " region   (Intercept) 0.003583 0.05986 \n",
       " Residual             0.427115 0.65354 \n",
       "Number of obs: 4064, groups:  region, 12\n",
       "\n",
       "Fixed effects:\n",
       "            Estimate Std. Error       df t value Pr(>|t|)    \n",
       "(Intercept)  2.38271    0.02029 12.51526   117.4   <2e-16 ***\n",
       "---\n",
       "Signif. codes:  0 ‘***’ 0.001 ‘**’ 0.01 ‘*’ 0.05 ‘.’ 0.1 ‘ ’ 1"
      ]
     },
     "metadata": {},
     "output_type": "display_data"
    }
   ],
   "source": [
    "twolevel_null_region <- lmer(nhood_mistrust ~ (1|region), data = mydata, REML = FALSE)\n",
    "summary(twolevel_null_region)"
   ]
  },
  {
   "cell_type": "markdown",
   "metadata": {},
   "source": [
    "Then a three level model."
   ]
  },
  {
   "cell_type": "code",
   "execution_count": 40,
   "metadata": {},
   "outputs": [
    {
     "data": {
      "text/plain": [
       "Linear mixed model fit by maximum likelihood . t-tests use Satterthwaite's\n",
       "  method [lmerModLmerTest]\n",
       "Formula: nhood_mistrust ~ (1 | hid) + (1 | region)\n",
       "   Data: mydata\n",
       "\n",
       "     AIC      BIC   logLik deviance df.resid \n",
       "  9171.2   9197.0  -4581.6   9163.2     4642 \n",
       "\n",
       "Scaled residuals: \n",
       "    Min      1Q  Median      3Q     Max \n",
       "-1.8025 -0.3803 -0.1051  0.3537  2.6769 \n",
       "\n",
       "Random effects:\n",
       " Groups   Name        Variance Std.Dev.\n",
       " hid      (Intercept) 0.252559 0.50255 \n",
       " region   (Intercept) 0.003772 0.06142 \n",
       " Residual             0.175599 0.41905 \n",
       "Number of obs: 4646, groups:  hid, 4420; region, 12\n",
       "\n",
       "Fixed effects:\n",
       "            Estimate Std. Error       df t value Pr(>|t|)    \n",
       "(Intercept)  2.38086    0.02042 12.36840   116.6   <2e-16 ***\n",
       "---\n",
       "Signif. codes:  0 ‘***’ 0.001 ‘**’ 0.01 ‘*’ 0.05 ‘.’ 0.1 ‘ ’ 1"
      ]
     },
     "metadata": {},
     "output_type": "display_data"
    }
   ],
   "source": [
    "nullmodel_threelvl <- lmer(nhood_mistrust ~ (1|hid) + (1|region), data = mydata, REML = FALSE)\n",
    "summary(nullmodel_threelvl)"
   ]
  },
  {
   "cell_type": "markdown",
   "metadata": {},
   "source": [
    "#### We then test to see if there is an improvement \n",
    "First we test whether the two-level models are an improvement over the one level models."
   ]
  },
  {
   "cell_type": "code",
   "execution_count": 41,
   "metadata": {},
   "outputs": [
    {
     "data": {
      "text/html": [
       "<table>\n",
       "<thead><tr><th></th><th scope=col>Df</th><th scope=col>AIC</th><th scope=col>BIC</th><th scope=col>logLik</th><th scope=col>deviance</th><th scope=col>Chisq</th><th scope=col>Chi Df</th><th scope=col>Pr(&gt;Chisq)</th></tr></thead>\n",
       "<tbody>\n",
       "\t<tr><th scope=row>single_null</th><td>2           </td><td>9299.215    </td><td>9312.103    </td><td>-4647.608   </td><td>9295.215    </td><td>      NA    </td><td>NA          </td><td>          NA</td></tr>\n",
       "\t<tr><th scope=row>twolevel_null_region</th><td>3           </td><td>9275.127    </td><td>9294.458    </td><td>-4634.564   </td><td>9269.127    </td><td>26.08823    </td><td> 1          </td><td>3.261658e-07</td></tr>\n",
       "</tbody>\n",
       "</table>\n"
      ],
      "text/latex": [
       "\\begin{tabular}{r|llllllll}\n",
       "  & Df & AIC & BIC & logLik & deviance & Chisq & Chi Df & Pr(>Chisq)\\\\\n",
       "\\hline\n",
       "\tsingle\\_null & 2            & 9299.215     & 9312.103     & -4647.608    & 9295.215     &       NA     & NA           &           NA\\\\\n",
       "\ttwolevel\\_null\\_region & 3            & 9275.127     & 9294.458     & -4634.564    & 9269.127     & 26.08823     &  1           & 3.261658e-07\\\\\n",
       "\\end{tabular}\n"
      ],
      "text/markdown": [
       "\n",
       "| <!--/--> | Df | AIC | BIC | logLik | deviance | Chisq | Chi Df | Pr(>Chisq) |\n",
       "|---|---|---|---|---|---|---|---|---|\n",
       "| single_null | 2            | 9299.215     | 9312.103     | -4647.608    | 9295.215     |       NA     | NA           |           NA |\n",
       "| twolevel_null_region | 3            | 9275.127     | 9294.458     | -4634.564    | 9269.127     | 26.08823     |  1           | 3.261658e-07 |\n",
       "\n"
      ],
      "text/plain": [
       "                     Df AIC      BIC      logLik    deviance Chisq    Chi Df\n",
       "single_null          2  9299.215 9312.103 -4647.608 9295.215       NA NA    \n",
       "twolevel_null_region 3  9275.127 9294.458 -4634.564 9269.127 26.08823  1    \n",
       "                     Pr(>Chisq)  \n",
       "single_null                    NA\n",
       "twolevel_null_region 3.261658e-07"
      ]
     },
     "metadata": {},
     "output_type": "display_data"
    }
   ],
   "source": [
    "anova(twolevel_null_region, single_null)"
   ]
  },
  {
   "cell_type": "code",
   "execution_count": 42,
   "metadata": {},
   "outputs": [
    {
     "data": {
      "text/html": [
       "<table>\n",
       "<thead><tr><th></th><th scope=col>Df</th><th scope=col>AIC</th><th scope=col>BIC</th><th scope=col>logLik</th><th scope=col>deviance</th><th scope=col>Chisq</th><th scope=col>Chi Df</th><th scope=col>Pr(&gt;Chisq)</th></tr></thead>\n",
       "<tbody>\n",
       "\t<tr><th scope=row>single_null</th><td>2           </td><td>9299.215    </td><td>9312.103    </td><td>-4647.608   </td><td>9295.215    </td><td>      NA    </td><td>NA          </td><td>          NA</td></tr>\n",
       "\t<tr><th scope=row>twolevel_null_hid</th><td>3           </td><td>9193.507    </td><td>9212.838    </td><td>-4593.754   </td><td>9187.507    </td><td>107.7082    </td><td> 1          </td><td>3.114109e-25</td></tr>\n",
       "</tbody>\n",
       "</table>\n"
      ],
      "text/latex": [
       "\\begin{tabular}{r|llllllll}\n",
       "  & Df & AIC & BIC & logLik & deviance & Chisq & Chi Df & Pr(>Chisq)\\\\\n",
       "\\hline\n",
       "\tsingle\\_null & 2            & 9299.215     & 9312.103     & -4647.608    & 9295.215     &       NA     & NA           &           NA\\\\\n",
       "\ttwolevel\\_null\\_hid & 3            & 9193.507     & 9212.838     & -4593.754    & 9187.507     & 107.7082     &  1           & 3.114109e-25\\\\\n",
       "\\end{tabular}\n"
      ],
      "text/markdown": [
       "\n",
       "| <!--/--> | Df | AIC | BIC | logLik | deviance | Chisq | Chi Df | Pr(>Chisq) |\n",
       "|---|---|---|---|---|---|---|---|---|\n",
       "| single_null | 2            | 9299.215     | 9312.103     | -4647.608    | 9295.215     |       NA     | NA           |           NA |\n",
       "| twolevel_null_hid | 3            | 9193.507     | 9212.838     | -4593.754    | 9187.507     | 107.7082     |  1           | 3.114109e-25 |\n",
       "\n"
      ],
      "text/plain": [
       "                  Df AIC      BIC      logLik    deviance Chisq    Chi Df\n",
       "single_null       2  9299.215 9312.103 -4647.608 9295.215       NA NA    \n",
       "twolevel_null_hid 3  9193.507 9212.838 -4593.754 9187.507 107.7082  1    \n",
       "                  Pr(>Chisq)  \n",
       "single_null                 NA\n",
       "twolevel_null_hid 3.114109e-25"
      ]
     },
     "metadata": {},
     "output_type": "display_data"
    }
   ],
   "source": [
    "anova(twolevel_null_hid, single_null)"
   ]
  },
  {
   "cell_type": "markdown",
   "metadata": {},
   "source": [
    "We then test whether the three-level model is an improvement over the one level model."
   ]
  },
  {
   "cell_type": "code",
   "execution_count": 43,
   "metadata": {},
   "outputs": [
    {
     "data": {
      "text/html": [
       "<table>\n",
       "<thead><tr><th></th><th scope=col>Df</th><th scope=col>AIC</th><th scope=col>BIC</th><th scope=col>logLik</th><th scope=col>deviance</th><th scope=col>Chisq</th><th scope=col>Chi Df</th><th scope=col>Pr(&gt;Chisq)</th></tr></thead>\n",
       "<tbody>\n",
       "\t<tr><th scope=row>single_null</th><td>2           </td><td>9299.215    </td><td>9312.103    </td><td>-4647.608   </td><td>9295.215    </td><td>      NA    </td><td>NA          </td><td>          NA</td></tr>\n",
       "\t<tr><th scope=row>nullmodel_threelvl</th><td>4           </td><td>9171.232    </td><td>9197.007    </td><td>-4581.616   </td><td>9163.232    </td><td>131.9835    </td><td> 2          </td><td>2.188521e-29</td></tr>\n",
       "</tbody>\n",
       "</table>\n"
      ],
      "text/latex": [
       "\\begin{tabular}{r|llllllll}\n",
       "  & Df & AIC & BIC & logLik & deviance & Chisq & Chi Df & Pr(>Chisq)\\\\\n",
       "\\hline\n",
       "\tsingle\\_null & 2            & 9299.215     & 9312.103     & -4647.608    & 9295.215     &       NA     & NA           &           NA\\\\\n",
       "\tnullmodel\\_threelvl & 4            & 9171.232     & 9197.007     & -4581.616    & 9163.232     & 131.9835     &  2           & 2.188521e-29\\\\\n",
       "\\end{tabular}\n"
      ],
      "text/markdown": [
       "\n",
       "| <!--/--> | Df | AIC | BIC | logLik | deviance | Chisq | Chi Df | Pr(>Chisq) |\n",
       "|---|---|---|---|---|---|---|---|---|\n",
       "| single_null | 2            | 9299.215     | 9312.103     | -4647.608    | 9295.215     |       NA     | NA           |           NA |\n",
       "| nullmodel_threelvl | 4            | 9171.232     | 9197.007     | -4581.616    | 9163.232     | 131.9835     |  2           | 2.188521e-29 |\n",
       "\n"
      ],
      "text/plain": [
       "                   Df AIC      BIC      logLik    deviance Chisq    Chi Df\n",
       "single_null        2  9299.215 9312.103 -4647.608 9295.215       NA NA    \n",
       "nullmodel_threelvl 4  9171.232 9197.007 -4581.616 9163.232 131.9835  2    \n",
       "                   Pr(>Chisq)  \n",
       "single_null                  NA\n",
       "nullmodel_threelvl 2.188521e-29"
      ]
     },
     "metadata": {},
     "output_type": "display_data"
    }
   ],
   "source": [
    "anova(nullmodel_threelvl,single_null)"
   ]
  },
  {
   "cell_type": "markdown",
   "metadata": {},
   "source": [
    "- Q4: Calculate the VPC at the household and regional levels for the 3 level variance components model."
   ]
  },
  {
   "cell_type": "code",
   "execution_count": 44,
   "metadata": {
    "scrolled": true
   },
   "outputs": [
    {
     "data": {
      "text/html": [
       "<table>\n",
       "<thead><tr><th scope=col>grp</th><th scope=col>var1</th><th scope=col>var2</th><th scope=col>vcov</th><th scope=col>sdcor</th></tr></thead>\n",
       "<tbody>\n",
       "\t<tr><td>hid        </td><td>(Intercept)</td><td>NA         </td><td>0.252559051</td><td>0.50255254 </td></tr>\n",
       "\t<tr><td>region     </td><td>(Intercept)</td><td>NA         </td><td>0.003772302</td><td>0.06141907 </td></tr>\n",
       "\t<tr><td>Residual   </td><td>NA         </td><td>NA         </td><td>0.175598848</td><td>0.41904516 </td></tr>\n",
       "</tbody>\n",
       "</table>\n"
      ],
      "text/latex": [
       "\\begin{tabular}{r|lllll}\n",
       " grp & var1 & var2 & vcov & sdcor\\\\\n",
       "\\hline\n",
       "\t hid         & (Intercept) & NA          & 0.252559051 & 0.50255254 \\\\\n",
       "\t region      & (Intercept) & NA          & 0.003772302 & 0.06141907 \\\\\n",
       "\t Residual    & NA          & NA          & 0.175598848 & 0.41904516 \\\\\n",
       "\\end{tabular}\n"
      ],
      "text/markdown": [
       "\n",
       "| grp | var1 | var2 | vcov | sdcor |\n",
       "|---|---|---|---|---|\n",
       "| hid         | (Intercept) | NA          | 0.252559051 | 0.50255254  |\n",
       "| region      | (Intercept) | NA          | 0.003772302 | 0.06141907  |\n",
       "| Residual    | NA          | NA          | 0.175598848 | 0.41904516  |\n",
       "\n"
      ],
      "text/plain": [
       "  grp      var1        var2 vcov        sdcor     \n",
       "1 hid      (Intercept) NA   0.252559051 0.50255254\n",
       "2 region   (Intercept) NA   0.003772302 0.06141907\n",
       "3 Residual NA          NA   0.175598848 0.41904516"
      ]
     },
     "metadata": {},
     "output_type": "display_data"
    }
   ],
   "source": [
    "vars_nullmodel1 <- as.data.frame(VarCorr(nullmodel_threelvl))\n",
    "vars_nullmodel1"
   ]
  },
  {
   "cell_type": "code",
   "execution_count": 45,
   "metadata": {},
   "outputs": [
    {
     "data": {
      "text/html": [
       "0.00873359071175365"
      ],
      "text/latex": [
       "0.00873359071175365"
      ],
      "text/markdown": [
       "0.00873359071175365"
      ],
      "text/plain": [
       "[1] 0.008733591"
      ]
     },
     "metadata": {},
     "output_type": "display_data"
    }
   ],
   "source": [
    "region_VPC <- vars_nullmodel1[2,4] / (vars_nullmodel1[1,4] + vars_nullmodel1[2,4] + vars_nullmodel1[3,4])\n",
    "region_VPC"
   ]
  },
  {
   "cell_type": "code",
   "execution_count": 46,
   "metadata": {},
   "outputs": [
    {
     "data": {
      "text/html": [
       "0.584721907797234"
      ],
      "text/latex": [
       "0.584721907797234"
      ],
      "text/markdown": [
       "0.584721907797234"
      ],
      "text/plain": [
       "[1] 0.5847219"
      ]
     },
     "metadata": {},
     "output_type": "display_data"
    }
   ],
   "source": [
    "hid_VPC <- vars_nullmodel1[1,4] / (vars_nullmodel1[1,4] + vars_nullmodel1[2,4] + vars_nullmodel1[3,4])\n",
    "hid_VPC"
   ]
  },
  {
   "cell_type": "markdown",
   "metadata": {},
   "source": [
    "- Q5. Add in the following explanatory variables in the model (random intercepts model only; no random slopes or coefficients)- age, sclfsato, urban, female, hhtenure, hiqual3. Take out any non-significant associations. \n",
    "\n",
    "A. Display the model coefficients in a table.\n",
    "\n",
    "B. Interpret the coefficients."
   ]
  },
  {
   "cell_type": "markdown",
   "metadata": {},
   "source": [
    "Adding in the variables. We have 4 variables at the individual level (age, sclfsato, female, hiqual3) and one variables at the household level (hhtenure, urban)."
   ]
  },
  {
   "cell_type": "code",
   "execution_count": 47,
   "metadata": {},
   "outputs": [
    {
     "data": {
      "text/plain": [
       "Linear mixed model fit by maximum likelihood . t-tests use Satterthwaite's\n",
       "  method [lmerModLmerTest]\n",
       "Formula: nhood_mistrust ~ age + sclfsato + urban + female + hhtenure +  \n",
       "    hiqual3 + (1 | hid) + (1 | region)\n",
       "   Data: mydata\n",
       "\n",
       "     AIC      BIC   logLik deviance df.resid \n",
       "  7622.9   7686.0  -3801.4   7602.9     4060 \n",
       "\n",
       "Scaled residuals: \n",
       "     Min       1Q   Median       3Q      Max \n",
       "-2.30936 -0.40729 -0.06486  0.37024  2.84284 \n",
       "\n",
       "Random effects:\n",
       " Groups   Name        Variance Std.Dev.\n",
       " hid      (Intercept) 0.225284 0.47464 \n",
       " region   (Intercept) 0.001458 0.03819 \n",
       " Residual             0.160163 0.40020 \n",
       "Number of obs: 4070, groups:  hid, 3888; region, 12\n",
       "\n",
       "Fixed effects:\n",
       "              Estimate Std. Error         df t value Pr(>|t|)    \n",
       "(Intercept)  2.569e+00  6.067e-02  1.796e+03  42.338  < 2e-16 ***\n",
       "age         -5.327e-03  5.773e-04  4.054e+03  -9.226  < 2e-16 ***\n",
       "sclfsato    -6.193e-02  6.321e-03  3.810e+03  -9.798  < 2e-16 ***\n",
       "urban        2.437e-01  2.387e-02  2.560e+03  10.209  < 2e-16 ***\n",
       "female      -7.607e-03  1.880e-02  3.121e+03  -0.405  0.68576    \n",
       "hhtenure     9.081e-02  1.518e-02  3.925e+03   5.981 2.41e-09 ***\n",
       "hiqual3      4.179e-02  1.533e-02  3.933e+03   2.727  0.00643 ** \n",
       "---\n",
       "Signif. codes:  0 ‘***’ 0.001 ‘**’ 0.01 ‘*’ 0.05 ‘.’ 0.1 ‘ ’ 1\n",
       "\n",
       "Correlation of Fixed Effects:\n",
       "         (Intr) age    sclfst urban  female hhtenr\n",
       "age      -0.462                                   \n",
       "sclfsato -0.567 -0.040                            \n",
       "urban    -0.312  0.091  0.012                     \n",
       "female   -0.179  0.026 -0.005  0.027              \n",
       "hhtenure -0.443  0.248  0.092 -0.058 -0.012       \n",
       "hiqual3  -0.340 -0.190  0.045 -0.030 -0.021 -0.102"
      ]
     },
     "metadata": {},
     "output_type": "display_data"
    }
   ],
   "source": [
    "rndinterceptmodel_threelvl <- lmer(nhood_mistrust ~ age + sclfsato + urban + female + hhtenure + hiqual3 + (1|hid) + (1|region), data = mydata, REML = FALSE)\n",
    "summary(rndinterceptmodel_threelvl)"
   ]
  },
  {
   "cell_type": "markdown",
   "metadata": {},
   "source": [
    "The only non significant association is 'female' (p = 0.686)."
   ]
  },
  {
   "cell_type": "code",
   "execution_count": 48,
   "metadata": {},
   "outputs": [
    {
     "data": {
      "text/plain": [
       "Linear mixed model fit by maximum likelihood . t-tests use Satterthwaite's\n",
       "  method [lmerModLmerTest]\n",
       "Formula: nhood_mistrust ~ age + sclfsato + urban + hhtenure + hiqual3 +  \n",
       "    (1 | hid) + (1 | region)\n",
       "   Data: mydata\n",
       "\n",
       "     AIC      BIC   logLik deviance df.resid \n",
       "  7621.0   7677.8  -3801.5   7603.0     4061 \n",
       "\n",
       "Scaled residuals: \n",
       "     Min       1Q   Median       3Q      Max \n",
       "-2.30176 -0.40553 -0.06436  0.36998  2.83511 \n",
       "\n",
       "Random effects:\n",
       " Groups   Name        Variance Std.Dev.\n",
       " hid      (Intercept) 0.225538 0.47491 \n",
       " region   (Intercept) 0.001461 0.03822 \n",
       " Residual             0.159942 0.39993 \n",
       "Number of obs: 4070, groups:  hid, 3888; region, 12\n",
       "\n",
       "Fixed effects:\n",
       "              Estimate Std. Error         df t value Pr(>|t|)    \n",
       "(Intercept)  2.564e+00  5.969e-02  1.729e+03  42.959  < 2e-16 ***\n",
       "age         -5.321e-03  5.771e-04  4.054e+03  -9.219  < 2e-16 ***\n",
       "sclfsato    -6.194e-02  6.320e-03  3.810e+03  -9.800  < 2e-16 ***\n",
       "urban        2.439e-01  2.386e-02  2.564e+03  10.223  < 2e-16 ***\n",
       "hhtenure     9.073e-02  1.518e-02  3.924e+03   5.976 2.49e-09 ***\n",
       "hiqual3      4.166e-02  1.532e-02  3.934e+03   2.719  0.00658 ** \n",
       "---\n",
       "Signif. codes:  0 ‘***’ 0.001 ‘**’ 0.01 ‘*’ 0.05 ‘.’ 0.1 ‘ ’ 1\n",
       "\n",
       "Correlation of Fixed Effects:\n",
       "         (Intr) age    sclfst urban  hhtenr\n",
       "age      -0.465                            \n",
       "sclfsato -0.577 -0.040                     \n",
       "urban    -0.312  0.090  0.012              \n",
       "hhtenure -0.453  0.248  0.092 -0.057       \n",
       "hiqual3  -0.349 -0.190  0.045 -0.030 -0.102"
      ]
     },
     "metadata": {},
     "output_type": "display_data"
    }
   ],
   "source": [
    "rndinterceptmodel_threelvl2 <- lmer(nhood_mistrust ~ age + sclfsato + urban + hhtenure + hiqual3 + (1|hid) + (1|region), data = mydata, REML = FALSE)\n",
    "summary(rndinterceptmodel_threelvl2)"
   ]
  },
  {
   "cell_type": "markdown",
   "metadata": {},
   "source": [
    "- Q6. Add in random slopes for age, at the household and regional level\n",
    "\n",
    "A. Does this improve the fit of the model?\n",
    "\n",
    "B. Take out from the model any non-significant random slope(s) for age.\n",
    "\n",
    "C. Interpret the random slope(s) for age, with the help of graphs."
   ]
  },
  {
   "cell_type": "code",
   "execution_count": 50,
   "metadata": {},
   "outputs": [
    {
     "name": "stderr",
     "output_type": "stream",
     "text": [
      "Warning message in checkConv(attr(opt, \"derivs\"), opt$par, ctrl = control$checkConv, :\n",
      "“unable to evaluate scaled gradient”Warning message in checkConv(attr(opt, \"derivs\"), opt$par, ctrl = control$checkConv, :\n",
      "“Model failed to converge: degenerate  Hessian with 1 negative eigenvalues”Warning message:\n",
      "“Model failed to converge with 1 negative eigenvalue: -1.0e+01”"
     ]
    },
    {
     "data": {
      "text/plain": [
       "Linear mixed model fit by maximum likelihood . t-tests use Satterthwaite's\n",
       "  method [lmerModLmerTest]\n",
       "Formula: nhood_mistrust ~ age + sclfsato + urban + female + hhtenure +  \n",
       "    hiqual3 + (1 + age | hid) + (1 + age | region)\n",
       "   Data: mydata\n",
       "Control: lmerControl(check.nobs.vs.nRE = \"ignore\")\n",
       "\n",
       "     AIC      BIC   logLik deviance df.resid \n",
       "  7616.2   7704.6  -3794.1   7588.2     4056 \n",
       "\n",
       "Scaled residuals: \n",
       "     Min       1Q   Median       3Q      Max \n",
       "-2.53756 -0.36511 -0.05999  0.34957  3.05383 \n",
       "\n",
       "Random effects:\n",
       " Groups   Name        Variance  Std.Dev. Corr \n",
       " hid      (Intercept) 5.146e-01 0.717353      \n",
       "          age         5.423e-05 0.007364 -0.80\n",
       " region   (Intercept) 2.242e-01 0.473540      \n",
       "          age         8.036e-05 0.008964 -0.99\n",
       " Residual             1.345e-01 0.366787      \n",
       "Number of obs: 4070, groups:  hid, 3888; region, 12\n",
       "\n",
       "Fixed effects:\n",
       "              Estimate Std. Error         df t value Pr(>|t|)    \n",
       "(Intercept)  2.586e+00  1.493e-01  2.527e+02  17.314  < 2e-16 ***\n",
       "age         -5.455e-03  2.659e-03  1.895e+01  -2.052   0.0543 .  \n",
       "sclfsato    -6.112e-02  6.243e-03  3.725e+03  -9.789  < 2e-16 ***\n",
       "urban        2.358e-01  2.354e-02  2.622e+03  10.017  < 2e-16 ***\n",
       "female      -4.835e-03  1.844e-02  2.921e+03  -0.262   0.7932    \n",
       "hhtenure     8.915e-02  1.554e-02  3.609e+03   5.736 1.05e-08 ***\n",
       "hiqual3      3.851e-02  1.499e-02  3.628e+03   2.569   0.0102 *  \n",
       "---\n",
       "Signif. codes:  0 ‘***’ 0.001 ‘**’ 0.01 ‘*’ 0.05 ‘.’ 0.1 ‘ ’ 1\n",
       "\n",
       "Correlation of Fixed Effects:\n",
       "         (Intr) age    sclfst urban  female hhtenr\n",
       "age      -0.933                                   \n",
       "sclfsato -0.226 -0.011                            \n",
       "urban    -0.124  0.020  0.012                     \n",
       "female   -0.072  0.006 -0.004  0.027              \n",
       "hhtenure -0.181  0.053  0.092 -0.051 -0.008       \n",
       "hiqual3  -0.126 -0.048  0.045 -0.036 -0.024 -0.114\n",
       "convergence code: 0\n",
       "unable to evaluate scaled gradient\n",
       "Model failed to converge: degenerate  Hessian with 1 negative eigenvalues\n"
      ]
     },
     "metadata": {},
     "output_type": "display_data"
    }
   ],
   "source": [
    "rndslopemodel_threelvl <- lmer(nhood_mistrust ~ age + sclfsato + urban + female + hhtenure + hiqual3 + (1 + age|hid) + (1 + age|region), data = mydata, REML = FALSE, control = lmerControl(check.nobs.vs.nRE = \"ignore\"))\n",
    "summary(rndslopemodel_threelvl)"
   ]
  },
  {
   "cell_type": "markdown",
   "metadata": {},
   "source": [
    "- Q7. Examine potential interaction effects between age and the other explanatory variables- interpret the interactions using graphs. Is the random slope of age is explained by these interaction terms?"
   ]
  },
  {
   "cell_type": "code",
   "execution_count": null,
   "metadata": {},
   "outputs": [],
   "source": []
  },
  {
   "cell_type": "markdown",
   "metadata": {},
   "source": [
    "- Q8. After fitting all the explanatory variables, is a three level model still appropriate?"
   ]
  },
  {
   "cell_type": "code",
   "execution_count": null,
   "metadata": {},
   "outputs": [],
   "source": []
  },
  {
   "cell_type": "markdown",
   "metadata": {},
   "source": [
    "- Q9. Display and interpret the parameters in your final model in a table."
   ]
  },
  {
   "cell_type": "code",
   "execution_count": null,
   "metadata": {},
   "outputs": [],
   "source": []
  },
  {
   "cell_type": "markdown",
   "metadata": {},
   "source": [
    "- Q10. Examine residuals at all three levels- are the assumptions of the regression model met?"
   ]
  },
  {
   "cell_type": "code",
   "execution_count": null,
   "metadata": {},
   "outputs": [],
   "source": []
  },
  {
   "cell_type": "markdown",
   "metadata": {},
   "source": [
    "#### Part B: Dependent variable: worry_crime\n",
    "\n",
    "Fit a multilevel logistic model with worry_crime as the dependent variable."
   ]
  },
  {
   "cell_type": "markdown",
   "metadata": {},
   "source": [
    "- Q11. Start from the single level null model and add in the household and then GOR levels. Display the model coefficients for the 3 level variance components model  in a table."
   ]
  },
  {
   "cell_type": "code",
   "execution_count": null,
   "metadata": {},
   "outputs": [],
   "source": []
  },
  {
   "cell_type": "markdown",
   "metadata": {},
   "source": [
    "- Q12. Is a three level model appropriate? Is a 2 level model appropriate? Is a single level model appropriate? If a 2 level model is appropriate, which two level models (individuals within HH or individuals within GOR)? State your reasons for choosing between a 2 vs 3 level model."
   ]
  },
  {
   "cell_type": "code",
   "execution_count": null,
   "metadata": {},
   "outputs": [],
   "source": []
  },
  {
   "cell_type": "markdown",
   "metadata": {},
   "source": [
    "- Q13. Having decided whether a multilevel or single level model is appropriate, add in the explanatory variables from your final model in Part A. Compare the models using a Table. Are the associations with worry_crime similar to the associations with nhood_mistrust?"
   ]
  },
  {
   "cell_type": "code",
   "execution_count": null,
   "metadata": {},
   "outputs": [],
   "source": []
  },
  {
   "cell_type": "markdown",
   "metadata": {},
   "source": [
    "- Q14. Take out any non-significant explanatory variables from the model. Interpret the coefficients in your final model in a table."
   ]
  },
  {
   "cell_type": "code",
   "execution_count": null,
   "metadata": {},
   "outputs": [],
   "source": []
  }
 ],
 "metadata": {
  "kernelspec": {
   "display_name": "R",
   "language": "R",
   "name": "ir"
  },
  "language_info": {
   "codemirror_mode": "r",
   "file_extension": ".r",
   "mimetype": "text/x-r-source",
   "name": "R",
   "pygments_lexer": "r",
   "version": "3.6.1"
  }
 },
 "nbformat": 4,
 "nbformat_minor": 4
}
