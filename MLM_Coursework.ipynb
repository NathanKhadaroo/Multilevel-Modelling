{
 "cells": [
  {
   "cell_type": "markdown",
   "metadata": {},
   "source": [
    "# Multi-level modelling assignment"
   ]
  },
  {
   "cell_type": "markdown",
   "metadata": {},
   "source": [
    "- The assignment\n",
    "- Loading packages and reading in data\n",
    "- Part A\n",
    "- Part B"
   ]
  },
  {
   "cell_type": "markdown",
   "metadata": {},
   "source": [
    "## The assignment"
   ]
  },
  {
   "cell_type": "markdown",
   "metadata": {},
   "source": [
    "#### Multilevel coursework assignment:\n",
    "\n",
    "Use the “coursework assignment data.ws” in Mlwin to answer the following questions. The data come from a random subsample of the Understanding Society wave 1 survey (for more details, see here: https://www.understandingsociety.ac.uk/documentation) . There are two parts to the assignment (part A and B).\n",
    "\n",
    "#### The variable names include:\n",
    "\n",
    "region: Government Office Region\n",
    "\n",
    "hid: household ID\n",
    "\n",
    "pid: person ID\n",
    "\n",
    "age: ranging from 16-96 years\n",
    "\n",
    "sclfsato: overall satisfaction with life ranging from 1 (completely dissatisfied) to 7 (completely satisfied\n",
    "\n",
    "nhood_mistrust: neighbourhood mistrust scale ranging from 1 (strongly trust in neighbourhood) to 5 (strongly mistrust \n",
    "in neighbourhood) \n",
    "\n",
    "urban: rural (0) vs urban (1) neighbourhood\n",
    "\n",
    "female: man (0) vs woman (1)\n",
    "\n",
    "hhtenure: housing tenure: owner/mortgaged (1); local authority/housing association rent (2); private rent (3)\n",
    "\n",
    "hiqual3: highest qualification: Degree or equivalent (1); school level qualification (2); No qualification (3)\n",
    "\n",
    "worry_crime: Worry about being affected by crime: No (0) vs Yes (1)\n",
    "\n",
    "Cons, denom: constant terms (1) \n",
    "\n",
    "#### Part A: Dependent variable: nhood_mistrust (60 marks)\n",
    "\n",
    "Fit a multilevel model with nhood_mistrust as the dependent variable. \n",
    "\n",
    "- Q1. Provide some summary statistics about the levels in the data. How many units are there at each level (overall N of each level), and how many units are there within levels (N within each level). - 3 marks\n",
    "\n",
    "- Q2. Specify the generalised equations of a three level multilevel model with random slopes at levels 2 and 3. State the assumptions of the model. - 2 marks\n",
    "\n",
    "- Q3. Start from the single level null model and add in the household and then region levels. \n",
    "\n",
    "A. Display the model coefficients in a table. - 3 marks\n",
    "\n",
    "B. Does the addition of the household level improve the fit of the model? -2 marks\n",
    "\n",
    "C. What evidence is there for an improvement in fit? - 5 marks\n",
    "\n",
    "- Q4: Calculate the VPC at the household and regional levels for the 3 level variance components model. - 3 marks\n",
    "\n",
    "- Q5. Add in the following explanatory variables in the model (random intercepts model only; no random slopes or coefficients)- age, sclfsato, urban, female, hhtenure, hiqual3. Take out any non-significant associations. \n",
    "\n",
    "A. Display the model coefficients in a table. - 2 marks\n",
    "\n",
    "B. Interpret the coefficients. - 5 marks\n",
    "\n",
    "- Q6. Add in random slopes for age, at the household and regional level\n",
    "\n",
    "A. Does this improve the fit of the model?  - 3 marks\n",
    "\n",
    "B. Take out from the model any non-significant random slope(s) for age\n",
    "\n",
    "C. Interpret the random slope(s) for age, with the help of graphs. - 10 marks\n",
    "\n",
    "- Q7. Examine potential interaction effects between age and the other explanatory variables- interpret the interactions using graphs. Is the random slope of age is explained by these interaction terms? - 10 marks\n",
    "\n",
    "- Q8. After fitting all the explanatory variables, is a three level model still appropriate? - 2 marks\n",
    "\n",
    "- Q9. Display and interpret the parameters in your final model in a table. - 5 marks\n",
    "\n",
    "- Q10. Examine residuals at all three levels- are the assumptions of the regression model met? - 5 marks\n",
    "\n",
    "\n",
    "\n",
    "#### Part B: Dependent variable: worry_crime (20 marks)\n",
    "\n",
    "Fit a multilevel logistic model with worry_crime as the dependent variable. \n",
    "\n",
    "- Q11. Start from the single level null model and add in the household and then GOR levels. Display the model coefficients for the 3 level variance components model  in a table. - 5 marks\n",
    "\n",
    "- Q12. Is a three level model appropriate? Is a 2 level model appropriate? Is a single level model appropriate? If a 2 level model is appropriate, which two level models (individuals within HH or individuals within GOR)? State your reasons for choosing between a 2 vs 3 level model. - 5 marks\n",
    "\n",
    "- Q13. Having decided whether a multilevel or single level model is appropriate, add in the explanatory variables from your final model in Part A. Compare the models using a Table. Are the associations with worry_crime similar to the associations with nhood_mistrust?  - 5 marks\n",
    "\n",
    "- Q14. Take out any non-significant explanatory variables from the model. Interpret the coefficients in your final model in a table.  5 marks\n",
    "\n",
    "#### NB: \n",
    "\n",
    "An additional 20 marks will be assigned for the presentation of tables (10) and figures (10).\n",
    "\n",
    "The results of this analysis should be presented in a written report of not more than 3000 words. There is no minimum number of words but each question should be answered comprehensively (Not just YES or NO answers, but giving the justification and evidence behind the answers). There is no limit on the number of tables and figures for the report.\n",
    "\n",
    "Submission deadline: 3pm 14 May 2020\n",
    "Please submit using Turnitin.\n",
    "Please enter your ID number on your essay. \n",
    "Save your submission file as Student ID number_submissiontitle.doc (eg 1234567_Essay.doc) Enter your Student ID number in the Turnitin title field at the time of submission."
   ]
  },
  {
   "cell_type": "markdown",
   "metadata": {},
   "source": [
    "#### Loading packages and reading in data"
   ]
  },
  {
   "cell_type": "markdown",
   "metadata": {},
   "source": [
    "- Loading packages"
   ]
  },
  {
   "cell_type": "code",
   "execution_count": 1,
   "metadata": {},
   "outputs": [
    {
     "name": "stderr",
     "output_type": "stream",
     "text": [
      "Registered S3 methods overwritten by 'ggplot2':\n",
      "  method         from \n",
      "  [.quosures     rlang\n",
      "  c.quosures     rlang\n",
      "  print.quosures rlang\n",
      "Registered S3 method overwritten by 'rvest':\n",
      "  method            from\n",
      "  read_xml.response xml2\n",
      "── Attaching packages ─────────────────────────────────────── tidyverse 1.2.1 ──\n",
      "✔ ggplot2 3.1.1       ✔ purrr   0.3.2  \n",
      "✔ tibble  2.1.1       ✔ dplyr   0.8.0.1\n",
      "✔ tidyr   0.8.3       ✔ stringr 1.4.0  \n",
      "✔ readr   1.3.1       ✔ forcats 0.4.0  \n",
      "── Conflicts ────────────────────────────────────────── tidyverse_conflicts() ──\n",
      "✖ dplyr::filter() masks stats::filter()\n",
      "✖ dplyr::lag()    masks stats::lag()\n",
      "Loading required package: Matrix\n",
      "\n",
      "Attaching package: ‘Matrix’\n",
      "\n",
      "The following object is masked from ‘package:tidyr’:\n",
      "\n",
      "    expand\n",
      "\n"
     ]
    }
   ],
   "source": [
    "library(tidyverse)\n",
    "library(lme4)"
   ]
  },
  {
   "cell_type": "code",
   "execution_count": 2,
   "metadata": {},
   "outputs": [],
   "source": [
    "mydata <- read.table(file = \"coursework.txt\", sep = \",\" , header = TRUE)"
   ]
  },
  {
   "cell_type": "markdown",
   "metadata": {},
   "source": [
    "#### Part A"
   ]
  },
  {
   "cell_type": "markdown",
   "metadata": {},
   "source": [
    "- Q1. Provide some summary statistics about the levels in the data. How many units are there at each level (overall N of each level), and how many units are there within levels (N within each level)."
   ]
  },
  {
   "cell_type": "code",
   "execution_count": 3,
   "metadata": {},
   "outputs": [
    {
     "data": {
      "text/html": [
       "4655"
      ],
      "text/latex": [
       "4655"
      ],
      "text/markdown": [
       "4655"
      ],
      "text/plain": [
       "[1] 4655"
      ]
     },
     "metadata": {},
     "output_type": "display_data"
    }
   ],
   "source": [
    "nrow(mydata)"
   ]
  },
  {
   "cell_type": "code",
   "execution_count": 4,
   "metadata": {},
   "outputs": [
    {
     "data": {
      "text/plain": [
       "   Min. 1st Qu.  Median    Mean 3rd Qu.    Max. \n",
       "  1.000   4.000   7.000   6.759   9.000  12.000 "
      ]
     },
     "metadata": {},
     "output_type": "display_data"
    }
   ],
   "source": [
    "summary(mydata$region)"
   ]
  },
  {
   "cell_type": "code",
   "execution_count": 5,
   "metadata": {},
   "outputs": [
    {
     "data": {
      "text/plain": [
       "   Min. 1st Qu.  Median    Mean 3rd Qu.    Max. \n",
       "      1    1105    2213    2211    3318    4429 "
      ]
     },
     "metadata": {},
     "output_type": "display_data"
    }
   ],
   "source": [
    "summary(mydata$hid)"
   ]
  },
  {
   "cell_type": "markdown",
   "metadata": {},
   "source": [
    "There are 12 different Government office regions (level 3), 4429 different households (level 2), and 4655 individuals (level 1). The table below provides information for every region on the number of households, the number of individuals, and the mean number of individuals per household."
   ]
  },
  {
   "cell_type": "code",
   "execution_count": 8,
   "metadata": {},
   "outputs": [
    {
     "data": {
      "text/html": [
       "<table>\n",
       "<thead><tr><th scope=col>region</th><th scope=col>Number_of_households</th><th scope=col>Number_of_individuals</th><th scope=col>Mean_number_of_individuals_per_household</th></tr></thead>\n",
       "<tbody>\n",
       "\t<tr><td> 1      </td><td>142     </td><td>148     </td><td>1.042254</td></tr>\n",
       "\t<tr><td> 2      </td><td>483     </td><td>506     </td><td>1.047619</td></tr>\n",
       "\t<tr><td> 3      </td><td>333     </td><td>353     </td><td>1.060060</td></tr>\n",
       "\t<tr><td> 4      </td><td>333     </td><td>356     </td><td>1.069069</td></tr>\n",
       "\t<tr><td> 5      </td><td>309     </td><td>330     </td><td>1.067961</td></tr>\n",
       "\t<tr><td> 6      </td><td>350     </td><td>364     </td><td>1.040000</td></tr>\n",
       "\t<tr><td> 7      </td><td>531     </td><td>554     </td><td>1.043315</td></tr>\n",
       "\t<tr><td> 8      </td><td>512     </td><td>542     </td><td>1.058594</td></tr>\n",
       "\t<tr><td> 9      </td><td>360     </td><td>374     </td><td>1.038889</td></tr>\n",
       "\t<tr><td>10      </td><td>333     </td><td>353     </td><td>1.060060</td></tr>\n",
       "\t<tr><td>11      </td><td>408     </td><td>425     </td><td>1.041667</td></tr>\n",
       "\t<tr><td>12      </td><td>335     </td><td>350     </td><td>1.044776</td></tr>\n",
       "</tbody>\n",
       "</table>\n"
      ],
      "text/latex": [
       "\\begin{tabular}{r|llll}\n",
       " region & Number\\_of\\_households & Number\\_of\\_individuals & Mean\\_number\\_of\\_individuals\\_per\\_household\\\\\n",
       "\\hline\n",
       "\t  1       & 142      & 148      & 1.042254\\\\\n",
       "\t  2       & 483      & 506      & 1.047619\\\\\n",
       "\t  3       & 333      & 353      & 1.060060\\\\\n",
       "\t  4       & 333      & 356      & 1.069069\\\\\n",
       "\t  5       & 309      & 330      & 1.067961\\\\\n",
       "\t  6       & 350      & 364      & 1.040000\\\\\n",
       "\t  7       & 531      & 554      & 1.043315\\\\\n",
       "\t  8       & 512      & 542      & 1.058594\\\\\n",
       "\t  9       & 360      & 374      & 1.038889\\\\\n",
       "\t 10       & 333      & 353      & 1.060060\\\\\n",
       "\t 11       & 408      & 425      & 1.041667\\\\\n",
       "\t 12       & 335      & 350      & 1.044776\\\\\n",
       "\\end{tabular}\n"
      ],
      "text/markdown": [
       "\n",
       "| region | Number_of_households | Number_of_individuals | Mean_number_of_individuals_per_household |\n",
       "|---|---|---|---|\n",
       "|  1       | 142      | 148      | 1.042254 |\n",
       "|  2       | 483      | 506      | 1.047619 |\n",
       "|  3       | 333      | 353      | 1.060060 |\n",
       "|  4       | 333      | 356      | 1.069069 |\n",
       "|  5       | 309      | 330      | 1.067961 |\n",
       "|  6       | 350      | 364      | 1.040000 |\n",
       "|  7       | 531      | 554      | 1.043315 |\n",
       "|  8       | 512      | 542      | 1.058594 |\n",
       "|  9       | 360      | 374      | 1.038889 |\n",
       "| 10       | 333      | 353      | 1.060060 |\n",
       "| 11       | 408      | 425      | 1.041667 |\n",
       "| 12       | 335      | 350      | 1.044776 |\n",
       "\n"
      ],
      "text/plain": [
       "   region Number_of_households Number_of_individuals\n",
       "1   1     142                  148                  \n",
       "2   2     483                  506                  \n",
       "3   3     333                  353                  \n",
       "4   4     333                  356                  \n",
       "5   5     309                  330                  \n",
       "6   6     350                  364                  \n",
       "7   7     531                  554                  \n",
       "8   8     512                  542                  \n",
       "9   9     360                  374                  \n",
       "10 10     333                  353                  \n",
       "11 11     408                  425                  \n",
       "12 12     335                  350                  \n",
       "   Mean_number_of_individuals_per_household\n",
       "1  1.042254                                \n",
       "2  1.047619                                \n",
       "3  1.060060                                \n",
       "4  1.069069                                \n",
       "5  1.067961                                \n",
       "6  1.040000                                \n",
       "7  1.043315                                \n",
       "8  1.058594                                \n",
       "9  1.038889                                \n",
       "10 1.060060                                \n",
       "11 1.041667                                \n",
       "12 1.044776                                "
      ]
     },
     "metadata": {},
     "output_type": "display_data"
    }
   ],
   "source": [
    "mydata %>%\n",
    "    group_by(region) %>% \n",
    "    summarise(Number_of_households = n_distinct(hid),\n",
    "             Number_of_individuals = n(),\n",
    "             Mean_number_of_individuals_per_household = n()/n_distinct(hid))"
   ]
  },
  {
   "cell_type": "markdown",
   "metadata": {},
   "source": [
    "- Q2. Specify the generalised equations of a three level multilevel model with random slopes at levels 2 and 3. State the assumptions of the model."
   ]
  },
  {
   "cell_type": "code",
   "execution_count": null,
   "metadata": {},
   "outputs": [],
   "source": []
  },
  {
   "cell_type": "markdown",
   "metadata": {},
   "source": [
    "- Q3. Start from the single level null model and add in the household and then region levels. \n",
    "\n",
    "A. Display the model coefficients in a table.\n",
    "\n",
    "B. Does the addition of the household level improve the fit of the model?\n",
    "\n",
    "C. What evidence is there for an improvement in fit?"
   ]
  },
  {
   "cell_type": "code",
   "execution_count": null,
   "metadata": {},
   "outputs": [],
   "source": []
  },
  {
   "cell_type": "markdown",
   "metadata": {},
   "source": [
    "- Q4: Calculate the VPC at the household and regional levels for the 3 level variance components model."
   ]
  },
  {
   "cell_type": "code",
   "execution_count": null,
   "metadata": {},
   "outputs": [],
   "source": []
  },
  {
   "cell_type": "markdown",
   "metadata": {},
   "source": [
    "- Q5. Add in the following explanatory variables in the model (random intercepts model only; no random slopes or coefficients)- age, sclfsato, urban, female, hhtenure, hiqual3. Take out any non-significant associations. \n",
    "\n",
    "A. Display the model coefficients in a table.\n",
    "\n",
    "B. Interpret the coefficients."
   ]
  },
  {
   "cell_type": "code",
   "execution_count": null,
   "metadata": {},
   "outputs": [],
   "source": []
  },
  {
   "cell_type": "markdown",
   "metadata": {},
   "source": [
    "- Q6. Add in random slopes for age, at the household and regional level\n",
    "\n",
    "A. Does this improve the fit of the model?\n",
    "\n",
    "B. Take out from the model any non-significant random slope(s) for age.\n",
    "\n",
    "C. Interpret the random slope(s) for age, with the help of graphs."
   ]
  },
  {
   "cell_type": "code",
   "execution_count": null,
   "metadata": {},
   "outputs": [],
   "source": []
  },
  {
   "cell_type": "markdown",
   "metadata": {},
   "source": [
    "- Q7. Examine potential interaction effects between age and the other explanatory variables- interpret the interactions using graphs. Is the random slope of age is explained by these interaction terms?"
   ]
  },
  {
   "cell_type": "code",
   "execution_count": null,
   "metadata": {},
   "outputs": [],
   "source": []
  },
  {
   "cell_type": "markdown",
   "metadata": {},
   "source": [
    "- Q8. After fitting all the explanatory variables, is a three level model still appropriate?"
   ]
  },
  {
   "cell_type": "code",
   "execution_count": null,
   "metadata": {},
   "outputs": [],
   "source": []
  },
  {
   "cell_type": "markdown",
   "metadata": {},
   "source": [
    "- Q9. Display and interpret the parameters in your final model in a table."
   ]
  },
  {
   "cell_type": "code",
   "execution_count": null,
   "metadata": {},
   "outputs": [],
   "source": []
  },
  {
   "cell_type": "markdown",
   "metadata": {},
   "source": [
    "- Q10. Examine residuals at all three levels- are the assumptions of the regression model met?"
   ]
  },
  {
   "cell_type": "code",
   "execution_count": null,
   "metadata": {},
   "outputs": [],
   "source": []
  },
  {
   "cell_type": "markdown",
   "metadata": {},
   "source": [
    "#### Part B: Dependent variable: worry_crime\n",
    "\n",
    "Fit a multilevel logistic model with worry_crime as the dependent variable."
   ]
  },
  {
   "cell_type": "markdown",
   "metadata": {},
   "source": [
    "- Q11. Start from the single level null model and add in the household and then GOR levels. Display the model coefficients for the 3 level variance components model  in a table."
   ]
  },
  {
   "cell_type": "code",
   "execution_count": null,
   "metadata": {},
   "outputs": [],
   "source": []
  },
  {
   "cell_type": "markdown",
   "metadata": {},
   "source": [
    "- Q12. Is a three level model appropriate? Is a 2 level model appropriate? Is a single level model appropriate? If a 2 level model is appropriate, which two level models (individuals within HH or individuals within GOR)? State your reasons for choosing between a 2 vs 3 level model."
   ]
  },
  {
   "cell_type": "code",
   "execution_count": null,
   "metadata": {},
   "outputs": [],
   "source": []
  },
  {
   "cell_type": "markdown",
   "metadata": {},
   "source": [
    "- Q13. Having decided whether a multilevel or single level model is appropriate, add in the explanatory variables from your final model in Part A. Compare the models using a Table. Are the associations with worry_crime similar to the associations with nhood_mistrust?"
   ]
  },
  {
   "cell_type": "code",
   "execution_count": null,
   "metadata": {},
   "outputs": [],
   "source": []
  },
  {
   "cell_type": "markdown",
   "metadata": {},
   "source": [
    "- Q14. Take out any non-significant explanatory variables from the model. Interpret the coefficients in your final model in a table."
   ]
  },
  {
   "cell_type": "code",
   "execution_count": null,
   "metadata": {},
   "outputs": [],
   "source": []
  }
 ],
 "metadata": {
  "kernelspec": {
   "display_name": "R",
   "language": "R",
   "name": "ir"
  },
  "language_info": {
   "codemirror_mode": "r",
   "file_extension": ".r",
   "mimetype": "text/x-r-source",
   "name": "R",
   "pygments_lexer": "r",
   "version": "3.6.1"
  }
 },
 "nbformat": 4,
 "nbformat_minor": 4
}
