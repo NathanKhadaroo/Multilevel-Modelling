{
 "cells": [
  {
   "cell_type": "markdown",
   "metadata": {},
   "source": [
    "# Multi-level modelling assignment"
   ]
  },
  {
   "cell_type": "markdown",
   "metadata": {},
   "source": [
    "- The assignment\n",
    "- Loading packages and reading in data\n",
    "- Part A\n",
    "- Part B"
   ]
  },
  {
   "cell_type": "markdown",
   "metadata": {},
   "source": [
    "## The assignment"
   ]
  },
  {
   "cell_type": "markdown",
   "metadata": {},
   "source": [
    "#### Multilevel coursework assignment:\n",
    "\n",
    "Use the “coursework assignment data.ws” in Mlwin to answer the following questions. The data come from a random subsample of the Understanding Society wave 1 survey (for more details, see here: https://www.understandingsociety.ac.uk/documentation) . There are two parts to the assignment (part A and B).\n",
    "\n",
    "#### The variable names include:\n",
    "\n",
    "region: Government Office Region\n",
    "hid: household ID\n",
    "pid: person ID\n",
    "age: ranging from 16-96 years\n",
    "sclfsato: overall satisfaction with life ranging from 1 (completely dissatisfied) to 7 (completely satisfied\n",
    "nhood_mistrust: neighbourhood mistrust scale ranging from 1 (strongly trust in neighbourhood) to 5 (strongly mistrust in neighbourhood) \n",
    "urban: rural (0) vs urban (1) neighbourhood\n",
    "female: man (0) vs woman (1)\n",
    "hhtenure: housing tenure: owner/mortgaged (1); local authority/housing association rent (2); private rent (3)\n",
    "hiqual3: highest qualification: Degree or equivalent (1); school level qualification (2); No qualification (3)\n",
    "worry_crime: Worry about being affected by crime: No (0) vs Yes (1)\n",
    "Cons, denom: constant terms (1) \n",
    "\n",
    "#### Part A: Dependent variable: nhood_mistrust (60 marks)\n",
    "\n",
    "Fit a multilevel model with nhood_mistrust as the dependent variable. \n",
    "\n",
    "- Q1. Provide some summary statistics about the levels in the data. How many units are there at each level (overall N of each level), and how many units are there within levels (N within each level). - 3 marks\n",
    "\n",
    "- Q2. Specify the generalised equations of a three level multilevel model with random slopes at levels 2 and 3. State the assumptions of the model. - 2 marks\n",
    "\n",
    "- Q3. Start from the single level null model and add in the household and then region levels. \n",
    "\n",
    "A. Display the model coefficients in a table. - 3 marks\n",
    "\n",
    "B. Does the addition of the household level improve the fit of the model? -2 marks\n",
    "\n",
    "C. What evidence is there for an improvement in fit? - 5 marks\n",
    "\n",
    "- Q4: Calculate the VPC at the household and regional levels for the 3 level variance components model. - 3 marks\n",
    "\n",
    "- Q5. Add in the following explanatory variables in the model (random intercepts model only; no random slopes or coefficients)- age, sclfsato, urban, female, hhtenure, hiqual3. Take out any non-significant associations. \n",
    "\n",
    "A. Display the model coefficients in a table. - 2 marks\n",
    "\n",
    "B. Interpret the coefficients. - 5 marks\n",
    "\n",
    "- Q6. Add in random slopes for age, at the household and regional level\n",
    "\n",
    "A. Does this improve the fit of the model?  - 3 marks\n",
    "\n",
    "B. Take out from the model any non-significant random slope(s) for age\n",
    "\n",
    "C. Interpret the random slope(s) for age, with the help of graphs. - 10 marks\n",
    "\n",
    "- Q7. Examine potential interaction effects between age and the other explanatory variables- interpret the interactions using graphs. Is the random slope of age is explained by these interaction terms? - 10 marks\n",
    "\n",
    "- Q8. After fitting all the explanatory variables, is a three level model still appropriate? - 2 marks\n",
    "\n",
    "- Q9. Display and interpret the parameters in your final model in a table. - 5 marks\n",
    "\n",
    "- Q10. Examine residuals at all three levels- are the assumptions of the regression model met? - 5 marks\n",
    "\n",
    "\n",
    "\n",
    "#### Part B: Dependent variable: worry_crime (20 marks)\n",
    "\n",
    "Fit a multilevel logistic model with worry_crime as the dependent variable. \n",
    "\n",
    "- Q11. Start from the single level null model and add in the household and then GOR levels. Display the model coefficients for the 3 level variance components model  in a table. - 5 marks\n",
    "\n",
    "- Q12. Is a three level model appropriate? Is a 2 level model appropriate? Is a single level model appropriate? If a 2 level model is appropriate, which two level models (individuals within HH or individuals within GOR)? State your reasons for choosing between a 2 vs 3 level model. - 5 marks\n",
    "\n",
    "- Q13. Having decided whether a multilevel or single level model is appropriate, add in the explanatory variables from your final model in Part A. Compare the models using a Table. Are the associations with worry_crime similar to the associations with nhood_mistrust?  - 5 marks\n",
    "\n",
    "- Q14. Take out any non-significant explanatory variables from the model. Interpret the coefficients in your final model in a table.  5 marks\n",
    "\n",
    "#### NB: \n",
    "\n",
    "An additional 20 marks will be assigned for the presentation of tables (10) and figures (10).\n",
    "\n",
    "The results of this analysis should be presented in a written report of not more than 3000 words. There is no minimum number of words but each question should be answered comprehensively (Not just YES or NO answers, but giving the justification and evidence behind the answers). There is no limit on the number of tables and figures for the report.\n",
    "\n",
    "Submission deadline: 3pm 14 May 2020\n",
    "Please submit using Turnitin.\n",
    "Please enter your ID number on your essay. \n",
    "Save your submission file as Student ID number_submissiontitle.doc (eg 1234567_Essay.doc) Enter your Student ID number in the Turnitin title field at the time of submission."
   ]
  },
  {
   "cell_type": "markdown",
   "metadata": {},
   "source": [
    "#### Loading packages and reading in data"
   ]
  },
  {
   "cell_type": "markdown",
   "metadata": {},
   "source": [
    "- Loading packages"
   ]
  },
  {
   "cell_type": "code",
   "execution_count": 1,
   "metadata": {},
   "outputs": [
    {
     "name": "stderr",
     "output_type": "stream",
     "text": [
      "Registered S3 methods overwritten by 'ggplot2':\n",
      "  method         from \n",
      "  [.quosures     rlang\n",
      "  c.quosures     rlang\n",
      "  print.quosures rlang\n",
      "Registered S3 method overwritten by 'rvest':\n",
      "  method            from\n",
      "  read_xml.response xml2\n",
      "── Attaching packages ─────────────────────────────────────── tidyverse 1.2.1 ──\n",
      "✔ ggplot2 3.1.1       ✔ purrr   0.3.2  \n",
      "✔ tibble  2.1.1       ✔ dplyr   0.8.0.1\n",
      "✔ tidyr   0.8.3       ✔ stringr 1.4.0  \n",
      "✔ readr   1.3.1       ✔ forcats 0.4.0  \n",
      "── Conflicts ────────────────────────────────────────── tidyverse_conflicts() ──\n",
      "✖ dplyr::filter() masks stats::filter()\n",
      "✖ dplyr::lag()    masks stats::lag()\n"
     ]
    },
    {
     "ename": "ERROR",
     "evalue": "Error in library(lme4): there is no package called ‘lme4’\n",
     "output_type": "error",
     "traceback": [
      "Error in library(lme4): there is no package called ‘lme4’\nTraceback:\n",
      "1. library(lme4)"
     ]
    }
   ],
   "source": [
    "library(tidyverse)\n",
    "library(lme4)"
   ]
  },
  {
   "cell_type": "code",
   "execution_count": null,
   "metadata": {},
   "outputs": [],
   "source": []
  }
 ],
 "metadata": {
  "kernelspec": {
   "display_name": "R",
   "language": "R",
   "name": "ir"
  },
  "language_info": {
   "codemirror_mode": "r",
   "file_extension": ".r",
   "mimetype": "text/x-r-source",
   "name": "R",
   "pygments_lexer": "r",
   "version": "3.6.1"
  }
 },
 "nbformat": 4,
 "nbformat_minor": 4
}
